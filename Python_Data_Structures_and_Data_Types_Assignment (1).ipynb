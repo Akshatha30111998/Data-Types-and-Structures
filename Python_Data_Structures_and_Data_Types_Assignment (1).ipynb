{
  "nbformat": 4,
  "nbformat_minor": 0,
  "metadata": {
    "colab": {
      "provenance": []
    },
    "kernelspec": {
      "name": "python3",
      "display_name": "Python 3"
    },
    "language_info": {
      "name": "python"
    }
  },
  "cells": [
    {
      "cell_type": "markdown",
      "source": [
        "#Python DataStructure"
      ],
      "metadata": {
        "id": "JIzFPACKwC2q"
      }
    },
    {
      "cell_type": "markdown",
      "source": [
        "1.What are data structures, and why are they important?\n",
        "- A data structure is a specialized format for organizing, processing, retrieving and storing data.Data structures are specialized formats for organizing, storing, and accessing collections of data. They provide efficient ways to manage information based on its characteristics and intended use.\n",
        "  - Importance\n",
        " -Choosing the right data structure significantly impacts the efficiency and performance of your program.\n",
        " -Well-chosen data structures can:\n",
        " -Simplify data manipulation (adding, removing, modifying elements).\n",
        "  -  Optimize searching and sorting operations.\n",
        " -Conserve memory usage.\n",
        "  \n",
        "\n",
        "\n",
        "2.Explain the difference between mutable and immutable data types with examples?\n",
        "-  Mutable Data Type – A mutable data type is one whose values can be changed.\n",
        "Example: List, Dictionaries, and Set.\n",
        "- Immutable Data Type – An immutable data type is one in which the values can’t be changed or altered.\n",
        "Example: String and Tuples.\n",
        "\n",
        "3What are the main differences between lists and tuples in Python?\n",
        "- The main differences between lists and tuples in Python are that lists are mutable, while tuples are immutable. This means that lists can be changed, while tuples cannot.           \n",
        "-Mutability    \n",
        "- Lists: Can be modified, added, removed, or replaced.\n",
        "- Tuples: Cannot be changed, added, or removed.\n",
        "\n",
        "\n",
        "LIST:\n",
        "- A list is a collection of various data types, such as integers, floats, strings, objects, or lists. The elements in the list are separated by commas and are stored in the square bracket ([]). Lists are mutable (i.e., elements can be modified after the creation), and ordered (i.e., elements are indexed). The index in the list starts from the first element (index = 0) to the last element (index = number of elements – 1).\n",
        "\n",
        "\n",
        "TUPLES:\n",
        "- Similar to the list, tuples are also the data structure in Python, with the key difference that they are immutable (i.e., elements can’t be modified after creation). In Python, Tuples are widely used where data integrity, order preservation, and immutability are important. The order of the elements in tuples is preserved, which allows for easy access and manipulation using indexes. It can store elements of any data type, including numbers, strings, Boolean, or even another tuple.\n",
        "\n",
        "4.Describe how dictionaries store data?\n",
        "- Dictionaries are used to store data values in key:value pairs.\n",
        "- A dictionary is a collection which is ordered, changeable and do not allow duplicates.\n",
        "\n",
        "\n",
        "5.Why might you use a set instead of a list in Python?\n",
        "- Because sets cannot have multiple occurrences of the same element, it makes sets highly useful to efficiently remove duplicate values from a list or tuple and to perform common math operations like unions and intersections.\n",
        "\n",
        "6. What is a string in Python and how is it different from a list?\n",
        "- Characters arranged in an unchangeable order. Consider writing a sentence, a paragraph, or a piece of material.\n",
        "-  Operations: Each character in the string can be accessed by its index, or position. Substrings can be extracted using slicing. Strings can be joined together and altered using a   \n",
        "     variety of techniques (find, replace, etc.).\n",
        "-  Strings are immutable, meaning they cannot be changed once created, while lists are mutable and can be modified as needed.\n",
        "\n",
        "\n",
        "7.How do tuples ensure data integrity in Python?\n",
        "- Tuples are immutable to ensure that their contents remain constant throughout their lifecycle, guaranteeing data integrity and reliability.\n",
        "-  This immutability allows tuples to be used as keys in dictionaries and elements in sets, as they can be hashed.\n",
        "\n",
        "8.What is a hash table, and how does it relate to dictionaries in Python?\n",
        "- A hash table in Python is a data structure that stores key-value pairs in an array format, using a hash function to create a unique index for each data value.\n",
        "-  Hash tables or has maps in Python are implemented through the built-in dictionary data type. The keys of a dictionary in Python are generated by a hashing function. The elements of a dictionary are not ordered and they can be changed.\n",
        "\n",
        "9. Can lists contain different data types in Python?\n",
        "- Yes a list can also contain a mix of Python types including strings, floats, and Boolean.\n",
        "\n",
        "10.Explain why strings are immutable in Python?\n",
        "- In Python, strings have the property of immutability which means they cannot be mutated or changed. You can assign strings to variables, and reassign new strings to the same       variable, but individual characters within a string cannot be reassigned.\n",
        "- In Python, strings are made immutable so that programmers cannot alter the contents of the object (even by mistake). This avoids unnecessary bugs.\n",
        "\n",
        "11.What advantages do dictionaries offer over lists for certain tasks4\n",
        "- Dictionarys have two parts to every entry the key and the value and these are stored as pairs.\n",
        "- This can give you more flexibility when storing data. The primary advantage would be retrieving stored values as it is much simpler to search through a dictionary.\n",
        "\n",
        "12.Describe a scenario where using a tuple would be preferable over a list?\n",
        "- Use a tuple if you need an immutable collection where the elements won't change after creation. Tuples are generally faster and more memory-efficient than lists, making them better for fixed collections, especially as dictionary keys or when iteration speed is crucial.\n",
        "- Tuples are faster than lists. Tuples make the code safe from any accidental modification. If a data is needed in a program which is not supposed to be changed, then it is better to put it in 'tuples' than in 'list'.\n",
        "\n",
        "13.How do sets handle duplicate values in Python?\n",
        "13ans:A set in Python is an unordered collection of unique elements. Think of it as a bag where you can throw in items, but each item can exist only once. But if you try to add  a\n",
        "duplicate, python will simply ignore it.\n",
        "       \n",
        "14. How does the “in” keyword work differently for lists and dictionaries?\n",
        "- The \"in\" and not in operator works on dictionaries; it tells you whether something appears or not as a key in the dictionary. It returns two values True or False.\n",
        "- The in operator uses different algorithms for lists and dictionaries. For lists, it uses a search algorithm.\n",
        "\n",
        "15.Can you modify the elements of a tuple? Explain why or why not?\n",
        "- No, you cannot modify the elements of a tuple in Python because tuples are \"immutable,\" meaning once created, their elements cannot be changed, added, or removed; attempting to do so will result in a TypeError\n",
        "\n",
        "\n",
        "16.What is a nested dictionary, and give an example of its use case?\n",
        "- Nested dictionary is an unordered collection of dictionary. Slicing Nested Dictionary is not possible. We can shrink or grow nested dictionary as need. Like Dictionary, it also has key and value.\n",
        "\n",
        "\n",
        "-  Let us first create a dictionary that contains data items with their corresponding.\n",
        "key value pairs in a python programming language.\n",
        "Here, we would perform the addition and update operation in the nested dictionary.\n",
        "to a single Key.\n",
        "Dict['Value'] = 5, 3, 6.\n",
        "print(\"\\nDictionary after adding 3 elements: \").\n",
        "\n",
        "\n",
        "\n",
        "17.Describe the time complexity of accessing elements in a dictionary?\n",
        "- The time complexity of accessing an element in a Python dictionary is \\(O(1)\\), which means it's constant time. This is because dictionaries use a hash table internally, which allows for fast lookups.\n",
        "\n",
        "18.In what situations are lists preferred over dictionaries?\n",
        "- List is ordered, mutable, and allows duplicate values. In a dictionary, the dictionary is unordered and mutable, but the dictionary doesn't allow duplicate values with the same key in it. Lists are used to store the data, which should be ordered and sequential.\n",
        "- If you need an ordered collection, like a sequence of user actions, lists are your go-to. On the other hand, when you need quick look-ups, like mapping usernames to user data, dictionaries are invaluable.\n",
        "\n",
        "19.Why are dictionaries considered unordered, and how does that affect data retrieval?\n",
        "- A dictionary is termed an unordered collection of objects because dictionaries do not maintain any inherent order of the items based on when they were added. In older versions of Python (before 3.7), dictionaries did not preserve insertion order at all.\n",
        "- Dictionaries are used to store data values in key:value pairs.\n",
        "\n",
        "20.Explain the difference between a list and a dictionary in terms of data retrieval?\n",
        "- Data retrieval from a list is based on indices, while data retrieval from a dictionary is based on keys.\n",
        "- Elements from the list can be accessed using the index, while the elements of the dictionary can be accessed using keys.\n",
        "\n",
        "\n",
        "\n",
        "\n",
        "\n",
        "\n",
        "\n",
        "\n",
        "\n",
        "\n",
        "\n",
        "  \n"
      ],
      "metadata": {
        "id": "EaYKcJAfwoU9"
      }
    },
    {
      "cell_type": "markdown",
      "source": [
        "#Practical Questions"
      ],
      "metadata": {
        "id": "UEE05BlP8bEC"
      }
    },
    {
      "cell_type": "code",
      "source": [
        "# 1. Write a code to create a string with your name and print it?\n",
        "name = \"Akshatha\"\n",
        "print(\"My name is\", name)"
      ],
      "metadata": {
        "colab": {
          "base_uri": "https://localhost:8080/"
        },
        "id": "KW_5_9VK8g-x",
        "outputId": "9e8b96c7-f272-4b1f-ce20-789d33668dfb"
      },
      "execution_count": null,
      "outputs": [
        {
          "output_type": "stream",
          "name": "stdout",
          "text": [
            "My name is Akshatha\n"
          ]
        }
      ]
    },
    {
      "cell_type": "code",
      "source": [
        "#2.Write a code to find the length of the string \"Hello World\"?\n",
        "string = \"Hello World\"\n",
        "length = len(string)\n",
        "print(\"The length of the string is:\", length)"
      ],
      "metadata": {
        "colab": {
          "base_uri": "https://localhost:8080/"
        },
        "id": "Qy9fv7hA9CcV",
        "outputId": "c43ce0c0-f5b8-42af-b2c0-4680479e162e"
      },
      "execution_count": null,
      "outputs": [
        {
          "output_type": "stream",
          "name": "stdout",
          "text": [
            "The length of the string is: 11\n"
          ]
        }
      ]
    },
    {
      "cell_type": "code",
      "source": [
        "#3.Write a code to slice the first 3 characters from the string \"Python Programming\"?\n",
        "string = \"Python Programming\"\n",
        "sliced_string = string[:3]\n",
        "print(\"The sliced string is:\", sliced_string)"
      ],
      "metadata": {
        "colab": {
          "base_uri": "https://localhost:8080/"
        },
        "id": "v2Sv92xx9fhF",
        "outputId": "3b98aa7f-bdb7-439d-ce99-2b819898132e"
      },
      "execution_count": null,
      "outputs": [
        {
          "output_type": "stream",
          "name": "stdout",
          "text": [
            "The sliced string is: Pyt\n"
          ]
        }
      ]
    },
    {
      "cell_type": "code",
      "source": [
        "#4.Write a code to convert the string \"hello\" to uppercase?\n",
        "string = \"hello\"\n",
        "uppercase_string = string.upper()\n",
        "print(\"The uppercase string is:\", uppercase_string)"
      ],
      "metadata": {
        "colab": {
          "base_uri": "https://localhost:8080/"
        },
        "id": "qXbg3bUU9qs9",
        "outputId": "3a3b8446-c7e1-4525-87ad-4a77eb36ab84"
      },
      "execution_count": null,
      "outputs": [
        {
          "output_type": "stream",
          "name": "stdout",
          "text": [
            "The uppercase string is: HELLO\n"
          ]
        }
      ]
    },
    {
      "cell_type": "code",
      "source": [
        "#5.Write a code to replace the word \"apple\" with \"orange\" in the string \"I like apple\"?\n",
        "string = \"I like apple\"\n",
        "print(\"string\")"
      ],
      "metadata": {
        "colab": {
          "base_uri": "https://localhost:8080/"
        },
        "id": "zBGyKrDq91Eo",
        "outputId": "88a6db09-1b76-4539-b926-59326f213045"
      },
      "execution_count": null,
      "outputs": [
        {
          "output_type": "stream",
          "name": "stdout",
          "text": [
            "string\n"
          ]
        }
      ]
    },
    {
      "cell_type": "code",
      "source": [
        "string = \"I like apple\"\n",
        "new_string = string.replace(\"apple\", \"orange\")\n",
        "print(\"The new string is:\", new_string)\n"
      ],
      "metadata": {
        "colab": {
          "base_uri": "https://localhost:8080/"
        },
        "id": "J6pI0Xs4-MdS",
        "outputId": "90e19dc4-42fc-4fac-9c44-024fe2d8cf3c"
      },
      "execution_count": null,
      "outputs": [
        {
          "output_type": "stream",
          "name": "stdout",
          "text": [
            "The new string is: I like orange\n"
          ]
        }
      ]
    },
    {
      "cell_type": "code",
      "source": [
        "#6.Write a code to create a list with numbers 1 to 5 and print it?\n",
        "numbers = [1, 2, 3, 4, 5]\n",
        "print(\"The list is:\", numbers)"
      ],
      "metadata": {
        "colab": {
          "base_uri": "https://localhost:8080/"
        },
        "id": "33ynpPma-P60",
        "outputId": "4eddfae9-f8fe-4aff-ea38-ccdbed403840"
      },
      "execution_count": null,
      "outputs": [
        {
          "output_type": "stream",
          "name": "stdout",
          "text": [
            "The list is: [1, 2, 3, 4, 5]\n"
          ]
        }
      ]
    },
    {
      "cell_type": "code",
      "source": [
        "#7.Write a code to append the number 10 to the list [1, 2, 3, 4]?\n",
        "numbers = [1, 2, 3, 4]\n",
        "numbers.append(10)\n",
        "print(\"The updated list is:\", numbers)"
      ],
      "metadata": {
        "colab": {
          "base_uri": "https://localhost:8080/"
        },
        "id": "Pr-znhpU-X3y",
        "outputId": "5553b2b7-f0f6-45ab-c7c6-f380ce17a0d3"
      },
      "execution_count": null,
      "outputs": [
        {
          "output_type": "stream",
          "name": "stdout",
          "text": [
            "The updated list is: [1, 2, 3, 4, 10]\n"
          ]
        }
      ]
    },
    {
      "cell_type": "code",
      "source": [
        "#8.Write a code to remove the number 3 from the list [1, 2, 3, 4, 5]?\n",
        "numbers = [1, 2, 3, 4, 5]\n",
        "numbers.remove(3)\n",
        "print(\"The updated list is:\", numbers)"
      ],
      "metadata": {
        "colab": {
          "base_uri": "https://localhost:8080/"
        },
        "id": "Xm0EmO0zACw8",
        "outputId": "11d0f721-0d25-4741-8d87-519787f198ef"
      },
      "execution_count": null,
      "outputs": [
        {
          "output_type": "stream",
          "name": "stdout",
          "text": [
            "The updated list is: [1, 2, 4, 5]\n"
          ]
        }
      ]
    },
    {
      "cell_type": "code",
      "source": [
        "#9. Write a code to access the second element in the list ['a', 'b', 'c', 'd']?\n",
        "letters = ['a', 'b', 'c', 'd']\n",
        "second_element = letters[1]\n",
        "print(\"The second element is:\", second_element)"
      ],
      "metadata": {
        "colab": {
          "base_uri": "https://localhost:8080/"
        },
        "id": "3I9XVJKPAKNs",
        "outputId": "cfadfbbc-aba9-4ab7-d3cb-73a8820c004c"
      },
      "execution_count": null,
      "outputs": [
        {
          "output_type": "stream",
          "name": "stdout",
          "text": [
            "The second element is: b\n"
          ]
        }
      ]
    },
    {
      "cell_type": "code",
      "source": [
        "#10. Write a code to reverse the list [10, 20, 30, 40, 50]?\n",
        "numbers = [10, 20, 30, 40, 50]\n",
        "numbers.reverse()\n",
        "print(\"The reversed list is:\", numbers)"
      ],
      "metadata": {
        "colab": {
          "base_uri": "https://localhost:8080/"
        },
        "id": "ZsQXJcKXAStm",
        "outputId": "88cd7588-ee16-49c5-ba99-96420e096866"
      },
      "execution_count": null,
      "outputs": [
        {
          "output_type": "stream",
          "name": "stdout",
          "text": [
            "The reversed list is: [50, 40, 30, 20, 10]\n"
          ]
        }
      ]
    },
    {
      "cell_type": "code",
      "source": [
        "#11.Write a code to create a tuple with the elements 10, 20, 30 and print it?\n",
        "numbers = (10, 20, 30)\n",
        "print(\"The tuple is:\", numbers)"
      ],
      "metadata": {
        "colab": {
          "base_uri": "https://localhost:8080/"
        },
        "id": "2MMgaD6gAlpT",
        "outputId": "57ab25c6-0804-488d-8a03-ecf4dcd8b99d"
      },
      "execution_count": null,
      "outputs": [
        {
          "output_type": "stream",
          "name": "stdout",
          "text": [
            "The tuple is: (10, 20, 30)\n"
          ]
        }
      ]
    },
    {
      "cell_type": "code",
      "source": [
        "#12.Write a code to access the first element of the tuple ('apple', 'banana', 'cherry')?\n",
        "fruits = ('apple', 'banana', 'cherry')\n",
        "first_element = fruits[0]\n",
        "print(\"The first element is:\", first_element)"
      ],
      "metadata": {
        "colab": {
          "base_uri": "https://localhost:8080/"
        },
        "id": "2Wc7DtCZAtnI",
        "outputId": "69e7a508-b651-40a9-fcaa-32eb31bcb40f"
      },
      "execution_count": null,
      "outputs": [
        {
          "output_type": "stream",
          "name": "stdout",
          "text": [
            "The first element is: apple\n"
          ]
        }
      ]
    },
    {
      "cell_type": "code",
      "source": [
        "#13.Write a code to count how many times the number 2 appears in the tuple (1, 2, 3, 2, 4, 2)?\n",
        "numbers = (1, 2, 3, 2, 4, 2)\n",
        "count = numbers.count(2)\n",
        "print(\"The number 2 appears\", count, \"times in the tuple.\")"
      ],
      "metadata": {
        "colab": {
          "base_uri": "https://localhost:8080/"
        },
        "id": "iHLLMpwUA0Wu",
        "outputId": "d31efeda-2b91-4583-8146-c67c353cf24c"
      },
      "execution_count": null,
      "outputs": [
        {
          "output_type": "stream",
          "name": "stdout",
          "text": [
            "The number 2 appears 3 times in the tuple.\n"
          ]
        }
      ]
    },
    {
      "cell_type": "code",
      "source": [
        "#14.Write a code to find the index of the element \"cat\" in the tuple ('dog', 'cat', 'rabbit')?\n",
        "animals= ('dog', 'cat', 'rabbit')\n",
        "index = animals.index('cat')\n",
        "print(\"The index of the element 'cat' is:\", index)\n"
      ],
      "metadata": {
        "colab": {
          "base_uri": "https://localhost:8080/"
        },
        "id": "gyG5o7fxA9En",
        "outputId": "b8e38cfa-9971-416a-855e-7ab424ab1009"
      },
      "execution_count": null,
      "outputs": [
        {
          "output_type": "stream",
          "name": "stdout",
          "text": [
            "The index of the element 'cat' is: 1\n"
          ]
        }
      ]
    },
    {
      "cell_type": "code",
      "source": [
        "#15.Write a code to check if the element \"banana\" is in the tuple ('apple', 'orange', 'banana')?\n",
        "fruits = ('apple', 'orange', 'banana')\n",
        "if 'banana' in fruits:\n",
        "    print(\"The element 'banana' is in the tuple.\")\n",
        "else:\n",
        "    print(\"The element 'banana' is not in the tuple.\")"
      ],
      "metadata": {
        "colab": {
          "base_uri": "https://localhost:8080/"
        },
        "id": "phyb663TBTgZ",
        "outputId": "8fe1901d-744b-48e8-cbd9-e1f3ac9e1086"
      },
      "execution_count": null,
      "outputs": [
        {
          "output_type": "stream",
          "name": "stdout",
          "text": [
            "The element 'banana' is in the tuple.\n"
          ]
        }
      ]
    },
    {
      "cell_type": "code",
      "source": [
        "#16. Write a code to create a set with the elements 1, 2, 3, 4, 5 and print it?\n",
        "numbers = {1, 2, 3, 4, 5}\n",
        "print(\"The set is:\", numbers)"
      ],
      "metadata": {
        "colab": {
          "base_uri": "https://localhost:8080/"
        },
        "id": "4x0eUj_sBeED",
        "outputId": "37b0534b-6639-4560-bb15-93a84d7f9376"
      },
      "execution_count": null,
      "outputs": [
        {
          "output_type": "stream",
          "name": "stdout",
          "text": [
            "The set is: {1, 2, 3, 4, 5}\n"
          ]
        }
      ]
    },
    {
      "cell_type": "code",
      "source": [
        "#17.Write a code to add the element 6 to the set {1, 2, 3, 4}?\n",
        "numbers = {1, 2, 3, 4}\n",
        "numbers.add(6)\n",
        "print(\"The updated set is:\", numbers)"
      ],
      "metadata": {
        "colab": {
          "base_uri": "https://localhost:8080/"
        },
        "id": "bZ9CPGzuBlEa",
        "outputId": "f7fabe24-1a58-4cfc-ae0f-5e72bc4f34c0"
      },
      "execution_count": null,
      "outputs": [
        {
          "output_type": "stream",
          "name": "stdout",
          "text": [
            "The updated set is: {1, 2, 3, 4, 6}\n"
          ]
        }
      ]
    },
    {
      "cell_type": "code",
      "source": [
        "#18. Write a code to create a tuple with the elements 10, 20, 30 and print it?\n",
        "numbers = (10, 20, 30)\n",
        "print(\"The tuple is:\", numbers)"
      ],
      "metadata": {
        "colab": {
          "base_uri": "https://localhost:8080/"
        },
        "id": "F4Va98yBBtIj",
        "outputId": "c81c0e8a-6c62-4477-d64c-0b5273d3e943"
      },
      "execution_count": null,
      "outputs": [
        {
          "output_type": "stream",
          "name": "stdout",
          "text": [
            "The tuple is: (10, 20, 30)\n"
          ]
        }
      ]
    },
    {
      "cell_type": "code",
      "source": [
        "#19. Write a code to access the first element of the tuple ('apple', 'banana', 'cherry')?\n",
        "fruits = ('apple', 'banana', 'cherry')\n",
        "first_element = fruits[0]\n",
        "print(\"The first element is:\", first_element)"
      ],
      "metadata": {
        "colab": {
          "base_uri": "https://localhost:8080/"
        },
        "id": "5nNzc3zFB0m_",
        "outputId": "9b670efa-aaaf-4c1d-ad9a-f619fb825f7a"
      },
      "execution_count": null,
      "outputs": [
        {
          "output_type": "stream",
          "name": "stdout",
          "text": [
            "The first element is: apple\n"
          ]
        }
      ]
    },
    {
      "cell_type": "code",
      "source": [
        "#20.Write a code to count how many times the number 2 appears in the tuple (1, 2, 3, 2, 4, 2)?\n",
        "numbers = (1, 2, 3, 2, 4, 2)\n",
        "count = numbers.count(2)\n",
        "print(\"The number 2 appears\", count, \"times in the tuple.\")"
      ],
      "metadata": {
        "colab": {
          "base_uri": "https://localhost:8080/"
        },
        "id": "RWklmEmJB7ZA",
        "outputId": "78deb813-752f-4e08-f97d-11b75019c422"
      },
      "execution_count": null,
      "outputs": [
        {
          "output_type": "stream",
          "name": "stdout",
          "text": [
            "The number 2 appears 3 times in the tuple.\n"
          ]
        }
      ]
    },
    {
      "cell_type": "code",
      "source": [
        "#21. Write a code to find the index of the element \"cat\" in the tuple ('dog', 'cat', 'rabbit')?\n",
        "animals = ('dog', 'cat', 'rabbit')\n",
        "index = animals.index('cat')\n",
        "print(\"The index of the element 'cat' is:\", index)"
      ],
      "metadata": {
        "colab": {
          "base_uri": "https://localhost:8080/"
        },
        "id": "ASq0J2gcCOFe",
        "outputId": "6fc8aa4b-8af9-4d0b-b0f6-cd90af328dc5"
      },
      "execution_count": null,
      "outputs": [
        {
          "output_type": "stream",
          "name": "stdout",
          "text": [
            "The index of the element 'cat' is: 1\n"
          ]
        }
      ]
    },
    {
      "cell_type": "code",
      "source": [
        "#22.Write a code to check if the element \"banana\" is in the tuple ('apple', 'orange', 'banana')?\n",
        "fruits = ('apple', 'orange', 'banana')\n",
        "if 'banana' in fruits:\n",
        "    print(\"The element 'banana' is in the tuple.\")\n",
        "else:\n",
        "    print(\"The element 'banana' is not in the tuple.\")"
      ],
      "metadata": {
        "colab": {
          "base_uri": "https://localhost:8080/"
        },
        "id": "FuBoSl0TCW1t",
        "outputId": "9b0e9edf-136d-4b96-f659-a9acf98d1c5e"
      },
      "execution_count": null,
      "outputs": [
        {
          "output_type": "stream",
          "name": "stdout",
          "text": [
            "The element 'banana' is in the tuple.\n"
          ]
        }
      ]
    },
    {
      "cell_type": "code",
      "source": [
        "#23. Write a code to create a set with the elements 1, 2, 3, 4, 5 and print it?\n",
        "numbers = {1, 2, 3, 4, 5}\n",
        "print(\"The set is:\", numbers)"
      ],
      "metadata": {
        "colab": {
          "base_uri": "https://localhost:8080/"
        },
        "id": "3F7407X7Cql9",
        "outputId": "cdb54c29-e40a-4445-d4ef-8b83d9774550"
      },
      "execution_count": null,
      "outputs": [
        {
          "output_type": "stream",
          "name": "stdout",
          "text": [
            "The set is: {1, 2, 3, 4, 5}\n"
          ]
        }
      ]
    },
    {
      "cell_type": "code",
      "source": [
        "#24. Write a code to add the element 6 to the set {1, 2, 3, 4}?\n",
        "numbers = {1, 2, 3, 4}\n",
        "numbers.add(6)\n",
        "print(\"The updated set is:\", numbers)"
      ],
      "metadata": {
        "colab": {
          "base_uri": "https://localhost:8080/"
        },
        "id": "TM_BPOu-Cwz0",
        "outputId": "8f93f38f-8788-44ff-d89e-67f8dea132d1"
      },
      "execution_count": null,
      "outputs": [
        {
          "output_type": "stream",
          "name": "stdout",
          "text": [
            "The updated set is: {1, 2, 3, 4, 6}\n"
          ]
        }
      ]
    }
  ]
}